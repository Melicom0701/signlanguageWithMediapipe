{
 "cells": [
  {
   "cell_type": "code",
   "execution_count": 49,
   "id": "c0949390-06e9-48ea-8c68-348d19ec4697",
   "metadata": {},
   "outputs": [],
   "source": [
    "import cv2 \n",
    "import os\n",
    "import time\n",
    "import numpy as np \n",
    "import uuid\n",
    "import mediapipe as mp"
   ]
  },
  {
   "cell_type": "code",
   "execution_count": 50,
   "id": "ad0e4949-552e-4e9a-bfbc-fd8fb4cc8131",
   "metadata": {},
   "outputs": [],
   "source": [
    "mp_holistic = mp.solutions.holistic \n",
    "mp_drawing = mp.solutions.drawing_utils"
   ]
  },
  {
   "cell_type": "code",
   "execution_count": 51,
   "id": "da80475e-01ae-47df-a63f-69823e00c287",
   "metadata": {},
   "outputs": [],
   "source": [
    "def mediapipe_detection(image,model):\n",
    "    image = cv2.cvtColor(image,cv2.COLOR_BGR2RGB)\n",
    "    image.flags.writeable = False\n",
    "    results = model.process(image)\n",
    "    image.flags.writeable = True\n",
    "    image = cv2.cvtColor(image,cv2.COLOR_RGB2BGR)\n",
    "    return image, results"
   ]
  },
  {
   "cell_type": "code",
   "execution_count": 52,
   "id": "6329590a-6116-4a96-9472-410dc2268682",
   "metadata": {},
   "outputs": [],
   "source": [
    "def draw_styled_landmarks(image,results):\n",
    "    \n",
    "    mp_drawing.draw_landmarks(image, results.pose_landmarks, mp_holistic.POSE_CONNECTIONS,\n",
    "                             mp_drawing.DrawingSpec(color=(80,22,10),thickness = 2, circle_radius=4),\n",
    "                                mp_drawing.DrawingSpec(color=(80,44,121),thickness=2,circle_radius=2))\n",
    "    mp_drawing.draw_landmarks(image, results.left_hand_landmarks, mp_holistic.HAND_CONNECTIONS,\n",
    "                             mp_drawing.DrawingSpec(color=(121,22,76),thickness = 2, circle_radius=4),\n",
    "                                mp_drawing.DrawingSpec(color=(121,44,250),thickness=2,circle_radius=2))\n",
    "    mp_drawing.draw_landmarks(image, results.right_hand_landmarks, mp_holistic.HAND_CONNECTIONS,\n",
    "                             mp_drawing.DrawingSpec(color=(245,120,60),thickness = 2, circle_radius=4),\n",
    "                                mp_drawing.DrawingSpec(color=(245,56,221),thickness=2,circle_radius=2))"
   ]
  },
  {
   "cell_type": "code",
   "execution_count": 2,
   "id": "3463a660-8bde-415d-aa84-18257915262c",
   "metadata": {},
   "outputs": [
    {
     "name": "stdout",
     "output_type": "stream",
     "text": [
      "\u001b[0m\u001b[01;34mCollectedImages\u001b[0m/      \u001b[01;34mData\u001b[0m/             \u001b[01;34mruns\u001b[0m/\n",
      "CollectingData.ipynb  HandleData.ipynb  \u001b[01;34msavedModels\u001b[0m/\n",
      "\u001b[01;35mconfusion_matrix.png\u001b[0m  RunModel.ipynb    TrainModel.ipynb\n"
     ]
    }
   ],
   "source": [
    "ls"
   ]
  },
  {
   "cell_type": "code",
   "execution_count": 53,
   "id": "0dc76173-481e-4cc8-8499-fdb73fd81a1d",
   "metadata": {},
   "outputs": [],
   "source": [
    "IMAGES_PATH = 'CollectedImages'"
   ]
  },
  {
   "cell_type": "code",
   "execution_count": 54,
   "id": "b59305bd-a9c1-4d5d-9409-e899e3f0816f",
   "metadata": {},
   "outputs": [],
   "source": [
    "number_imgs = 50"
   ]
  },
  {
   "cell_type": "code",
   "execution_count": 64,
   "id": "342016fb-756e-46ec-a2c2-001dd5a00d50",
   "metadata": {},
   "outputs": [
    {
     "name": "stderr",
     "output_type": "stream",
     "text": [
      "I0000 00:00:1728473572.186013  126637 gl_context_egl.cc:85] Successfully initialized EGL. Major : 1 Minor: 5\n",
      "I0000 00:00:1728473572.187170  129790 gl_context.cc:357] GL version: 3.2 (OpenGL ES 3.2 Mesa 23.2.1-1ubuntu3.1~22.04.2), renderer: RENOIR (renoir, LLVM 15.0.7, DRM 3.57, 6.8.0-45-generic)\n",
      "W0000 00:00:1728473572.242955  129778 inference_feedback_manager.cc:114] Feedback manager requires a model with a single signature inference. Disabling support for feedback tensors.\n",
      "W0000 00:00:1728473572.254270  129781 inference_feedback_manager.cc:114] Feedback manager requires a model with a single signature inference. Disabling support for feedback tensors.\n",
      "W0000 00:00:1728473572.255234  129779 inference_feedback_manager.cc:114] Feedback manager requires a model with a single signature inference. Disabling support for feedback tensors.\n",
      "W0000 00:00:1728473572.255236  129787 inference_feedback_manager.cc:114] Feedback manager requires a model with a single signature inference. Disabling support for feedback tensors.\n",
      "W0000 00:00:1728473572.255576  129781 inference_feedback_manager.cc:114] Feedback manager requires a model with a single signature inference. Disabling support for feedback tensors.\n",
      "W0000 00:00:1728473572.259523  129778 inference_feedback_manager.cc:114] Feedback manager requires a model with a single signature inference. Disabling support for feedback tensors.\n",
      "W0000 00:00:1728473572.265713  129776 inference_feedback_manager.cc:114] Feedback manager requires a model with a single signature inference. Disabling support for feedback tensors.\n",
      "W0000 00:00:1728473572.267423  129787 inference_feedback_manager.cc:114] Feedback manager requires a model with a single signature inference. Disabling support for feedback tensors.\n"
     ]
    },
    {
     "name": "stdin",
     "output_type": "stream",
     "text": [
      "Label:  a\n"
     ]
    },
    {
     "name": "stdout",
     "output_type": "stream",
     "text": [
      "Recording started...\n",
      "Captured 50 images. Stopping...\n"
     ]
    }
   ],
   "source": [
    "cap = cv2.VideoCapture(-1) \n",
    "isClose = False\n",
    "\n",
    "with mp_holistic.Holistic(min_detection_confidence=0.5, min_tracking_confidence=0.5) as holistic:\n",
    "    label = input('Label: ')\n",
    "    if not os.path.exists(os.path.join(IMAGES_PATH, label)):\n",
    "        os.makedirs(os.path.join(IMAGES_PATH, label))\n",
    "    \n",
    "    IsCapture = False  \n",
    "    cnt = 0 \n",
    "    Stop = False\n",
    "    hold = 50\n",
    "    imgCount = 0\n",
    "    while True: \n",
    "        ret, frame = cap.read()\n",
    "        image, results = mediapipe_detection(frame, holistic)\n",
    "        draw_styled_landmarks(image, results)\n",
    "        if cv2.waitKey(10) & 0xFF == ord('q'):\n",
    "            print('Recording stopped...')\n",
    "            isClose = True\n",
    "            break\n",
    "            \n",
    "        if cv2.waitKey(10) & 0xFF == ord('o'):\n",
    "            if IsCapture == False :\n",
    "                print('Recording started...')\n",
    "\n",
    "            IsCapture = True\n",
    "\n",
    "\n",
    "        \n",
    "        if not IsCapture:\n",
    "            cv2.putText(image, 'Press O to start recording', (20, 50), cv2.FONT_HERSHEY_SIMPLEX, 1, (255, 0, 50), 2, cv2.LINE_AA)\n",
    "        else: \n",
    "            if cnt < hold :\n",
    "                cv2.putText(image, 'Waiting for capturing', (20, 50), cv2.FONT_HERSHEY_SIMPLEX, 1, (255, 0, 255), 2, cv2.LINE_AA)\n",
    "            cnt += 1\n",
    "            if cnt >= hold: \n",
    "                if (cnt%5 == 0 ) :\n",
    "                    imgCount = imgCount + 1 \n",
    "                    cv2.putText(image, f'Capturing Image label {label} ({imgCount} / {number_imgs})', \n",
    "                                (20, 50), cv2.FONT_HERSHEY_SIMPLEX, 1, (255, 0, 255), 2, cv2.LINE_AA)\n",
    "\n",
    "                    id = str(uuid.uuid1())\n",
    "                    cv2.imwrite(os.path.join(IMAGES_PATH, label, label + '.' + '{}.jpg'.format(id)), frame)\n",
    "\n",
    "                    \n",
    "                    if imgCount >= number_imgs:\n",
    "                        Stop = True\n",
    "                        print(f'Captured {number_imgs} images. Stopping...')\n",
    "                        break \n",
    "                    if Stop:\n",
    "                        break\n",
    "        cv2.imshow('OpenCV Feed', image)\n",
    "        if Stop:\n",
    "            break\n",
    "\n",
    "    \n",
    "\n",
    "cap.release()\n",
    "cv2.destroyAllWindows()\n"
   ]
  }
 ],
 "metadata": {
  "kernelspec": {
   "display_name": "Python 3 (ipykernel)",
   "language": "python",
   "name": "python3"
  },
  "language_info": {
   "codemirror_mode": {
    "name": "ipython",
    "version": 3
   },
   "file_extension": ".py",
   "mimetype": "text/x-python",
   "name": "python",
   "nbconvert_exporter": "python",
   "pygments_lexer": "ipython3",
   "version": "3.10.12"
  }
 },
 "nbformat": 4,
 "nbformat_minor": 5
}
